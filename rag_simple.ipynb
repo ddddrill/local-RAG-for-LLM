{
 "cells": [
  {
   "cell_type": "markdown",
   "metadata": {},
   "source": [
    "## RAG localy"
   ]
  },
  {
   "cell_type": "markdown",
   "metadata": {},
   "source": [
    "Система RAG (Retrieval-Augmented Generation, генерация с использованием поиска) представляет собой новый подход, который сочетает сильные стороны больших языковых моделей (LLM) с возможностями информационного поиска для генерации более точных и информативных ответов. В традиционной схеме LLM модель полагается исключительно на свою внутреннюю базу знаний для генерации текста на основе заданного запроса или входных данных. Однако это может привести к ограничениям в плане способности модели доступа и включения внешних знаний, особенно для редких или специализированных тем.  \n",
    "ниже картиночка которая все объясняет:"
   ]
  },
  {
   "cell_type": "markdown",
   "metadata": {},
   "source": [
    "![alt text](f1.png \"Title\")"
   ]
  },
  {
   "cell_type": "code",
   "execution_count": 1,
   "metadata": {},
   "outputs": [
    {
     "name": "stderr",
     "output_type": "stream",
     "text": [
      "C:\\Users\\Kirilll\\AppData\\Local\\Packages\\PythonSoftwareFoundation.Python.3.10_qbz5n2kfra8p0\\LocalCache\\local-packages\\Python310\\site-packages\\sentence_transformers\\cross_encoder\\CrossEncoder.py:13: TqdmExperimentalWarning: Using `tqdm.autonotebook.tqdm` in notebook mode. Use `tqdm.tqdm` instead to force console mode (e.g. in jupyter console)\n",
      "  from tqdm.autonotebook import tqdm, trange\n"
     ]
    }
   ],
   "source": [
    "# all i neeeed \n",
    "import os\n",
    "import torch\n",
    "import pandas as pd\n",
    "import fitz\n",
    "import numpy as np \n",
    "import nltk\n",
    "import re\n",
    "import faiss\n",
    "import textwrap\n",
    "\n",
    "from spacy.lang.en import English\n",
    "from sentence_transformers import SentenceTransformer,util\n",
    "from tqdm.auto import tqdm"
   ]
  },
  {
   "cell_type": "markdown",
   "metadata": {},
   "source": [
    "#### Collect pdf"
   ]
  },
  {
   "cell_type": "code",
   "execution_count": 2,
   "metadata": {},
   "outputs": [],
   "source": [
    "# для good work  лучше создать папку 'pdf' и закинуть туда файлы \n",
    "def pdf_files():\n",
    "    current_dir_os = os.getcwd() \n",
    "    pdf_dir=current_dir_os+'\\\\'+'pdf'\n",
    "    return pdf_dir\n",
    "\n",
    "def get_file(pdf_dir):\n",
    "    files_path=[]\n",
    "    files = os.listdir(pdf_dir)\n",
    "    for i in files:\n",
    "        file_path=pdf_dir+'\\\\'+i\n",
    "        files_path.append(file_path)\n",
    "    return files_path\n",
    "# условно получаем список из файлов ПДФ\n",
    "# get_file(pdf_files())\n"
   ]
  },
  {
   "cell_type": "markdown",
   "metadata": {},
   "source": [
    "#### Read PDF"
   ]
  },
  {
   "cell_type": "code",
   "execution_count": 3,
   "metadata": {},
   "outputs": [
    {
     "data": {
      "application/vnd.jupyter.widget-view+json": {
       "model_id": "a89b0c8f60f649e4b6b5f63e7318c10a",
       "version_major": 2,
       "version_minor": 0
      },
      "text/plain": [
       "0it [00:00, ?it/s]"
      ]
     },
     "metadata": {},
     "output_type": "display_data"
    }
   ],
   "source": [
    "def text_filter(text:str):\n",
    "    # убираем переносы \n",
    "    clean_text=text.replace('\\n',' ').strip()\n",
    "    return clean_text\n",
    "\n",
    "def open_pdf(path:str) ->list[dict]:\n",
    "    doc=fitz.open(path)\n",
    "    pageXtext=[]\n",
    "    for pg_number,page in tqdm(enumerate(doc)):\n",
    "        page_text=page.get_text()\n",
    "        #  фильтруем\n",
    "        cleaned_text=text_filter(page_text)\n",
    "\t\t#  формируем список в соотвествии с требования \n",
    "        pageXtext.append({\n",
    "            \t\t\t\t'file_name': os.path.basename(path),\n",
    "            \t\t\t\t'page_number':pg_number-14, # в моем случае было лучше 14 (тк с 14 начинается текст ток)\n",
    "                           \t'page_char_count':len(cleaned_text),\n",
    "                           \t'page_word_count':len(cleaned_text.split(' ')),\n",
    "                           \t'page_sentence_count':len(cleaned_text.split('. ')),\n",
    "                           \t'page_tokens_count': len(cleaned_text)/4,\n",
    "                           \t'text':cleaned_text,\n",
    "                              }) \n",
    "\n",
    "    return pageXtext\n",
    "# получаем список файлов \n",
    "path=get_file(pdf_files())\n",
    "# выбираем файл\n",
    "page_and_text=open_pdf(path[1])"
   ]
  },
  {
   "cell_type": "markdown",
   "metadata": {},
   "source": [
    "#### Remove data to pandas"
   ]
  },
  {
   "cell_type": "code",
   "execution_count": 4,
   "metadata": {},
   "outputs": [
    {
     "data": {
      "text/html": [
       "<div>\n",
       "<style scoped>\n",
       "    .dataframe tbody tr th:only-of-type {\n",
       "        vertical-align: middle;\n",
       "    }\n",
       "\n",
       "    .dataframe tbody tr th {\n",
       "        vertical-align: top;\n",
       "    }\n",
       "\n",
       "    .dataframe thead th {\n",
       "        text-align: right;\n",
       "    }\n",
       "</style>\n",
       "<table border=\"1\" class=\"dataframe\">\n",
       "  <thead>\n",
       "    <tr style=\"text-align: right;\">\n",
       "      <th></th>\n",
       "      <th>page_number</th>\n",
       "      <th>page_char_count</th>\n",
       "      <th>page_word_count</th>\n",
       "      <th>page_sentence_count</th>\n",
       "      <th>page_tokens_count</th>\n",
       "    </tr>\n",
       "  </thead>\n",
       "  <tbody>\n",
       "    <tr>\n",
       "      <th>count</th>\n",
       "      <td>114.00</td>\n",
       "      <td>114.00</td>\n",
       "      <td>114.00</td>\n",
       "      <td>114.00</td>\n",
       "      <td>114.00</td>\n",
       "    </tr>\n",
       "    <tr>\n",
       "      <th>mean</th>\n",
       "      <td>42.50</td>\n",
       "      <td>954.70</td>\n",
       "      <td>165.00</td>\n",
       "      <td>17.04</td>\n",
       "      <td>238.68</td>\n",
       "    </tr>\n",
       "    <tr>\n",
       "      <th>std</th>\n",
       "      <td>33.05</td>\n",
       "      <td>463.97</td>\n",
       "      <td>84.13</td>\n",
       "      <td>35.63</td>\n",
       "      <td>115.99</td>\n",
       "    </tr>\n",
       "    <tr>\n",
       "      <th>min</th>\n",
       "      <td>-14.00</td>\n",
       "      <td>20.00</td>\n",
       "      <td>5.00</td>\n",
       "      <td>1.00</td>\n",
       "      <td>5.00</td>\n",
       "    </tr>\n",
       "    <tr>\n",
       "      <th>25%</th>\n",
       "      <td>14.25</td>\n",
       "      <td>615.75</td>\n",
       "      <td>110.50</td>\n",
       "      <td>6.00</td>\n",
       "      <td>153.94</td>\n",
       "    </tr>\n",
       "    <tr>\n",
       "      <th>50%</th>\n",
       "      <td>42.50</td>\n",
       "      <td>1073.50</td>\n",
       "      <td>176.50</td>\n",
       "      <td>10.00</td>\n",
       "      <td>268.38</td>\n",
       "    </tr>\n",
       "    <tr>\n",
       "      <th>75%</th>\n",
       "      <td>70.75</td>\n",
       "      <td>1324.25</td>\n",
       "      <td>227.75</td>\n",
       "      <td>13.75</td>\n",
       "      <td>331.06</td>\n",
       "    </tr>\n",
       "    <tr>\n",
       "      <th>max</th>\n",
       "      <td>99.00</td>\n",
       "      <td>1619.00</td>\n",
       "      <td>362.00</td>\n",
       "      <td>242.00</td>\n",
       "      <td>404.75</td>\n",
       "    </tr>\n",
       "  </tbody>\n",
       "</table>\n",
       "</div>"
      ],
      "text/plain": [
       "       page_number  page_char_count  page_word_count  page_sentence_count  \\\n",
       "count       114.00           114.00           114.00               114.00   \n",
       "mean         42.50           954.70           165.00                17.04   \n",
       "std          33.05           463.97            84.13                35.63   \n",
       "min         -14.00            20.00             5.00                 1.00   \n",
       "25%          14.25           615.75           110.50                 6.00   \n",
       "50%          42.50          1073.50           176.50                10.00   \n",
       "75%          70.75          1324.25           227.75                13.75   \n",
       "max          99.00          1619.00           362.00               242.00   \n",
       "\n",
       "       page_tokens_count  \n",
       "count             114.00  \n",
       "mean              238.68  \n",
       "std               115.99  \n",
       "min                 5.00  \n",
       "25%               153.94  \n",
       "50%               268.38  \n",
       "75%               331.06  \n",
       "max               404.75  "
      ]
     },
     "execution_count": 4,
     "metadata": {},
     "output_type": "execute_result"
    }
   ],
   "source": [
    "Data=pd.DataFrame(page_and_text)\n",
    "Data.describe().round(2)"
   ]
  },
  {
   "cell_type": "markdown",
   "metadata": {},
   "source": [
    "Дальнейшая обработка текста (разбиение страниц на предложения)\n",
    "Идеальный способ обработки текста перед его встраиванием vẫn является активной областью исследований.\n",
    "\n",
    "Простой метод, который я нашел полезным, заключается в разбиении текста на части, состоящие из предложений.\n",
    "\n",
    "То есть, разбить страницу текста на группы по 5, 7, 10 или более предложений (эти значения не являются фиксированными и могут быть изучены)."
   ]
  },
  {
   "cell_type": "markdown",
   "metadata": {},
   "source": [
    "#### Preprocessing..."
   ]
  },
  {
   "cell_type": "code",
   "execution_count": 5,
   "metadata": {},
   "outputs": [
    {
     "data": {
      "application/vnd.jupyter.widget-view+json": {
       "model_id": "281320065cde4b1d824d7a03e314b036",
       "version_major": 2,
       "version_minor": 0
      },
      "text/plain": [
       "  0%|          | 0/114 [00:00<?, ?it/s]"
      ]
     },
     "metadata": {},
     "output_type": "display_data"
    }
   ],
   "source": [
    "# --- spacy\n",
    "nlp=English()\n",
    "# Construction like add_pipe\n",
    "sentencizer = nlp.add_pipe(\"sentencizer\")\n",
    "\n",
    "for item in tqdm(page_and_text):\n",
    "    item['sentence']=list(nlp(item['text']).sents)\n",
    "    # приводим все к единому формату\n",
    "    item['sentence']=[str(sentence) for sentence in item['sentence']]\n",
    "    item['sentence_count']=len(item['sentence'])\n",
    "\n",
    "# # --- nltk (если захочется перейти и для обшего развития ) не отличается выходом\n",
    "# for item in tqdm(page_and_text):\n",
    "#     item['sentence'] = nltk.sent_tokenize(item['text'])  \n",
    "#     item['sentence']=[str(sentence) for sentence in item['sentence']]\n",
    "#     item['sentence_count']=len(item['sentence'])"
   ]
  },
  {
   "cell_type": "markdown",
   "metadata": {},
   "source": [
    "#### Make chunking"
   ]
  },
  {
   "cell_type": "code",
   "execution_count": 6,
   "metadata": {},
   "outputs": [
    {
     "data": {
      "application/vnd.jupyter.widget-view+json": {
       "model_id": "3f5a384dd8ca4db48679f4fb5bc1a976",
       "version_major": 2,
       "version_minor": 0
      },
      "text/plain": [
       "  0%|          | 0/114 [00:00<?, ?it/s]"
      ]
     },
     "metadata": {},
     "output_type": "display_data"
    },
    {
     "data": {
      "application/vnd.jupyter.widget-view+json": {
       "model_id": "2e1fb8eb64874acfad7b0cd783415dd0",
       "version_major": 2,
       "version_minor": 0
      },
      "text/plain": [
       "  0%|          | 0/114 [00:00<?, ?it/s]"
      ]
     },
     "metadata": {},
     "output_type": "display_data"
    }
   ],
   "source": [
    "# Выбираем сколько предложений будет входить в отрывок и делим основной текст на эти \n",
    "sent_chunk_size=7\n",
    "\n",
    "def list_chunk(item,chunk_size):\n",
    "    # сюда передаем список с предложениями и делим\n",
    "    return [item[i:i+chunk_size] for i in range(0,len(item),chunk_size)]\n",
    "\n",
    "def chunking_text(data,chunk_size):\n",
    "        # разбиваем на опр кол-во предложений и составляем новые item\n",
    "        for item in tqdm(data):\n",
    "            item['sentence_chunk']=list_chunk(item['sentence'],chunk_size)\n",
    "\n",
    "chunking_text(page_and_text,7)\n",
    "        \n",
    "# Теперь нужно сделать так , чтоб каждый кусок был отдельным айтемом\n",
    "def chunking(data):\n",
    "    page_and_chunk=[]\n",
    "    for item in tqdm(data):\n",
    "        for sentence in item['sentence_chunk']:\n",
    "            chunk_dict={}\n",
    "            chunk_dict['page_number']=item['page_number']\n",
    "\n",
    "            join_sent_chunk=''.join(sentence).replace('  ',' ').strip()\n",
    "            join_sent_chunk=re.sub(r\"\\.([A-Z])\",r\". \\1\",join_sent_chunk  )\n",
    "\n",
    "            chunk_dict['sentence_chunk']=join_sent_chunk\n",
    "            chunk_dict['word_count']=len([word for word in join_sent_chunk.split(' ')])\n",
    "            chunk_dict['token_count']=int(len(join_sent_chunk)/4)\n",
    "\n",
    "            page_and_chunk.append(chunk_dict)\n",
    "    return page_and_chunk\n",
    "    \n",
    "page_and_chunk=chunking(page_and_text)"
   ]
  },
  {
   "cell_type": "code",
   "execution_count": 7,
   "metadata": {},
   "outputs": [
    {
     "name": "stdout",
     "output_type": "stream",
     "text": [
      "23 Figure 3.8: Input image of the area target [49]. Figure 3.9: Intensity of the area target.48\n",
      "3 IEEE, 2015.100\n",
      "3 IEEE, 2017.97\n",
      "22 In beamforming, the data collected by sensors are processed by weight vector to form a 67\n",
      "29 ARRAY SIGNAL PROCESSING FOR SYNTHETIC APERTURE RADAR (SAR) THESIS BY QIFENG LIU DECEMBER 2018 UNIVERSITY OF SHEFFIELD\n"
     ]
    },
    {
     "data": {
      "text/plain": [
       "{'page_number': -13,\n",
       " 'sentence_chunk': 'Array Signal Processing for Synthetic Aperture Radar(SAR) by Qifeng Liu B. Eng A master thesis submitted in partial fulﬁlment of the requirements for the award of Master of Philosophy Supervisors: Dr. Wei Liu and Dr. Xiaoli Chu December 2018',\n",
       " 'word_count': 39,\n",
       " 'token_count': 60}"
      ]
     },
     "execution_count": 7,
     "metadata": {},
     "output_type": "execute_result"
    }
   ],
   "source": [
    "# можно варьировать минимальным количеством токенов\n",
    "min_token_length=30\n",
    "Data=pd.DataFrame(page_and_chunk)\n",
    "# примеры меньше 30\n",
    "for row in Data[Data['token_count']<min_token_length].sample(5).iterrows():\n",
    "    print (row[1]['token_count'], row[1]['sentence_chunk'])\n",
    "\n",
    "# непосредственно фильтруем данные\n",
    "page_and_chunk_filtered=Data[Data['token_count']>min_token_length].to_dict(orient='records')\n",
    "page_and_chunk_filtered[0]"
   ]
  },
  {
   "cell_type": "markdown",
   "metadata": {},
   "source": [
    "#### Embeddings"
   ]
  },
  {
   "cell_type": "code",
   "execution_count": 8,
   "metadata": {},
   "outputs": [
    {
     "data": {
      "application/vnd.jupyter.widget-view+json": {
       "model_id": "edc57103c74f435a812a578e21c85d4c",
       "version_major": 2,
       "version_minor": 0
      },
      "text/plain": [
       "  0%|          | 0/190 [00:00<?, ?it/s]"
      ]
     },
     "metadata": {},
     "output_type": "display_data"
    },
    {
     "name": "stderr",
     "output_type": "stream",
     "text": [
      "C:\\Users\\Kirilll\\AppData\\Local\\Packages\\PythonSoftwareFoundation.Python.3.10_qbz5n2kfra8p0\\LocalCache\\local-packages\\Python310\\site-packages\\transformers\\models\\bert\\modeling_bert.py:440: UserWarning: 1Torch was not compiled with flash attention. (Triggered internally at ..\\aten\\src\\ATen\\native\\transformers\\cuda\\sdp_utils.cpp:455.)\n",
      "  attn_output = torch.nn.functional.scaled_dot_product_attention(\n"
     ]
    }
   ],
   "source": [
    "# выбираем модель для формирования эмбеддинга\n",
    "model_name='sentence-transformers/all-MiniLM-L12-v2'\n",
    "embd_model=SentenceTransformer(model_name_or_path=model_name,\n",
    "                               device='cuda')\n",
    "\n",
    "# можно так\n",
    "for item in tqdm(page_and_chunk_filtered):\n",
    "    item['embedding']=embd_model.encode(item['sentence_chunk'])\n",
    "    \n",
    "# можно и вот так\n",
    "# text_chunk=[item['sentence_chunk'] for item in page_and_chunk_filtered]\n",
    "# text_chunk_embedings=embd_model.encode(text_chunk,\n",
    "#                                        batch_size=8,\n",
    "#                                        convert_to_tensor=True)"
   ]
  },
  {
   "cell_type": "markdown",
   "metadata": {},
   "source": [
    "#### Save embeddings as file"
   ]
  },
  {
   "cell_type": "code",
   "execution_count": null,
   "metadata": {},
   "outputs": [
    {
     "data": {
      "text/html": [
       "<div>\n",
       "<style scoped>\n",
       "    .dataframe tbody tr th:only-of-type {\n",
       "        vertical-align: middle;\n",
       "    }\n",
       "\n",
       "    .dataframe tbody tr th {\n",
       "        vertical-align: top;\n",
       "    }\n",
       "\n",
       "    .dataframe thead th {\n",
       "        text-align: right;\n",
       "    }\n",
       "</style>\n",
       "<table border=\"1\" class=\"dataframe\">\n",
       "  <thead>\n",
       "    <tr style=\"text-align: right;\">\n",
       "      <th></th>\n",
       "      <th>page_number</th>\n",
       "      <th>sentence_chunk</th>\n",
       "      <th>word_count</th>\n",
       "      <th>token_count</th>\n",
       "      <th>embedding</th>\n",
       "    </tr>\n",
       "  </thead>\n",
       "  <tbody>\n",
       "    <tr>\n",
       "      <th>0</th>\n",
       "      <td>-13</td>\n",
       "      <td>Array Signal Processing for Synthetic Aperture...</td>\n",
       "      <td>39</td>\n",
       "      <td>60</td>\n",
       "      <td>[ 3.94535661e-02 -2.01664343e-02 -6.65103421e-...</td>\n",
       "    </tr>\n",
       "  </tbody>\n",
       "</table>\n",
       "</div>"
      ],
      "text/plain": [
       "   page_number                                     sentence_chunk  word_count  \\\n",
       "0          -13  Array Signal Processing for Synthetic Aperture...          39   \n",
       "\n",
       "   token_count                                          embedding  \n",
       "0           60  [ 3.94535661e-02 -2.01664343e-02 -6.65103421e-...  "
      ]
     },
     "execution_count": 9,
     "metadata": {},
     "output_type": "execute_result"
    }
   ],
   "source": [
    "page_and_chunk_embeddings=pd.DataFrame(page_and_chunk_filtered)\n",
    "page_and_chunk_embeddings.to_csv('page_and_chunk_embeddings.csv',index=False)"
   ]
  },
  {
   "cell_type": "markdown",
   "metadata": {},
   "source": [
    "#### RAG search and answer"
   ]
  },
  {
   "cell_type": "code",
   "execution_count": 10,
   "metadata": {},
   "outputs": [],
   "source": [
    "device='cuda' if torch.cuda.is_available() else 'cpu'\n",
    "\n",
    "load_embeddings=pd.read_csv('page_and_chunk_embeddings.csv')\n",
    "# convert embedding to array\n",
    "load_embeddings['embedding']=load_embeddings['embedding'].apply(lambda x:np.fromstring(x.strip('[]'),sep=' '))\n",
    "# convert to tensor\n",
    "embedding=torch.Tensor(np.stack(load_embeddings['embedding'].to_list(),axis=0))\n",
    "\n",
    "# to list of dict\n",
    "page_and_chunks=load_embeddings.to_dict(orient='records')\n",
    "# page_and_chunks[0]"
   ]
  },
  {
   "cell_type": "markdown",
   "metadata": {},
   "source": [
    "#### Semantic search pipline"
   ]
  },
  {
   "cell_type": "code",
   "execution_count": 11,
   "metadata": {},
   "outputs": [
    {
     "name": "stdout",
     "output_type": "stream",
     "text": [
      "Query - The relationship of time and frequency of the LFM signal\n"
     ]
    },
    {
     "data": {
      "text/plain": [
       "torch.return_types.topk(\n",
       "values=tensor([[0.6631, 0.6011, 0.5978, 0.5764, 0.5611]], device='cuda:0'),\n",
       "indices=tensor([[44, 46, 51, 84, 90]], device='cuda:0'))"
      ]
     },
     "execution_count": 11,
     "metadata": {},
     "output_type": "execute_result"
    }
   ],
   "source": [
    "# это самый простой поиск на основе embedding (просто ищем то что ближе через метрику)\n",
    "from sentence_transformers import util\n",
    "# 1 задаем вопрос\n",
    "query=\"The relationship of time and frequency of the LFM signal\"\n",
    "print (f'Query - {query}')\n",
    "# 2 подгружаем ембд \n",
    "query_embedding=embd_model.encode(query, convert_to_tensor=True).to(device)\n",
    "# 3 ищем ближайшие с помощью \n",
    "dot_scores=util.dot_score(a=query_embedding,b=embedding.to(device))\n",
    "# 4 выводим ближайшие результаты (топ 5)\n",
    "top_results_dot_prod=torch.topk(dot_scores,k=5)\n",
    "top_results_dot_prod"
   ]
  },
  {
   "cell_type": "markdown",
   "metadata": {},
   "source": [
    "#### FAISS\n",
    "\n",
    "1) Эффективный поиск подобных векторов: FAISS позволяет быстро искать подобные векторы в больших наборах данных, что может быть полезно для задач, таких как поиск похожих текстов или предложений в большом корпусе текстов.  \n",
    "2) Оптимизация поиска: FAISS использует различные алгоритмы и структуры данных для оптимизации поиска подобных векторов, что может уменьшить время поиска и улучшить производительность системы.  \n",
    "3) Масштабируемость: FAISS может обрабатывать большие наборы данных и может быть использован в распределенных системах, что делает его подходящим для крупномасштабных приложений LLM.  "
   ]
  },
  {
   "cell_type": "code",
   "execution_count": 12,
   "metadata": {},
   "outputs": [],
   "source": [
    "# 1 определяем датасет на основе эмбеддингов\n",
    "database = pd.DataFrame(embedding.cpu().numpy())\n",
    "# 2 инициализируем векторную БД\n",
    "index = faiss.IndexFlatL2(database.shape[1])\n",
    "# 3 Часто мы будем использовать индексы, которые требуют от нас обучения их нашим данным перед использованием \n",
    "index.is_trained\n",
    "# 4 затем мы добавляем новые векторы, используя метод add.\n",
    "index.add(database)"
   ]
  },
  {
   "cell_type": "code",
   "execution_count": 13,
   "metadata": {},
   "outputs": [
    {
     "name": "stdout",
     "output_type": "stream",
     "text": [
      "[[44 46 90]]\n"
     ]
    }
   ],
   "source": [
    "# ищем топ 3 похожих \n",
    "k = 3\n",
    "query = embd_model.encode([\"What is LFM ?\"])\n",
    "\n",
    "D, I = index.search(query, k)  # search\n",
    "print(I)"
   ]
  },
  {
   "cell_type": "code",
   "execution_count": 14,
   "metadata": {},
   "outputs": [],
   "source": [
    "# Теперь, если мы предпочитаем извлечь числовые векторы из FAISS, мы тоже можем это сделать.\n",
    "vecs = np.zeros((k, database.shape[1]))\n",
    "for i, val in enumerate(I[0].tolist()):\n",
    "    vecs[i, :] = index.reconstruct(val)"
   ]
  },
  {
   "cell_type": "markdown",
   "metadata": {},
   "source": [
    "Добавление секционирования в индекс\n",
    "FAISS позволяет нам добавить дополнительный шаг для оптимизации эффективности поиска, используя множество различных методов. Популярный подход — разбиение индекса на ячейки Вороного. Используя этот метод, мы возьмем вектор запроса, определим ячейку, которой он принадлежит,\n",
    "а затем используйте наш IndexFlatL2 для поиска между вектором запроса и всеми индексированными векторами, принадлежащими этой ячейке. Мы также можем включить векторы из других близлежащих клеток.\n",
    "\n",
    "Мы инициализируем наш новый секционированный индекс, сначала добавляя нашу предыдущую операцию IndexFlatL2 в качестве шага квантования (еще один шаг в процессе поиска).\n",
    "и передать это в новую операцию IndexIVFFlat следующим образом:"
   ]
  },
  {
   "cell_type": "code",
   "execution_count": 15,
   "metadata": {},
   "outputs": [],
   "source": [
    "nlist = 10\n",
    "quantizer = faiss.IndexFlatL2(database.shape[1])\n",
    "index = faiss.IndexIVFFlat(quantizer, database.shape[1], nlist)"
   ]
  },
  {
   "cell_type": "markdown",
   "metadata": {},
   "source": [
    "Здесь мы добавили новый параметр nlist. Мы используем nlist, чтобы определить, сколько разделов мы хотим иметь в нашем индексе.\n",
    "\n",
    "Когда мы создавали предыдущий индекс только для IndexFlatL2, мы отметили, что никакого обучения не требуется, поскольку для построения этого индекса не требуется никакой группировки/преобразования. Теперь, когда мы добавили секционирование с помощью IndexIVFFlat, это уже не так.\n",
    "Давайте посмотрим на атрибут is_trained."
   ]
  },
  {
   "cell_type": "code",
   "execution_count": 16,
   "metadata": {},
   "outputs": [],
   "source": [
    "index.train(database)\n",
    "index.is_trained\n",
    "index.add(database)"
   ]
  },
  {
   "cell_type": "code",
   "execution_count": 17,
   "metadata": {},
   "outputs": [
    {
     "name": "stdout",
     "output_type": "stream",
     "text": [
      "[[46 90 47]]\n",
      "CPU times: total: 15.6 ms\n",
      "Wall time: 26 ms\n"
     ]
    }
   ],
   "source": [
    "%%time\n",
    "k = 3\n",
    "query = embd_model.encode([\"What is LFM ?\"])\n",
    "\n",
    "D, I = index.search(query, k)  # search\n",
    "print(I)"
   ]
  },
  {
   "cell_type": "markdown",
   "metadata": {},
   "source": [
    "Мы также можем увеличить количество близлежащих ячеек для поиска с помощью nprobe."
   ]
  },
  {
   "cell_type": "code",
   "execution_count": 18,
   "metadata": {},
   "outputs": [
    {
     "name": "stdout",
     "output_type": "stream",
     "text": [
      "[[44 46 90]]\n",
      "CPU times: total: 0 ns\n",
      "Wall time: 999 µs\n"
     ]
    }
   ],
   "source": [
    "%%time\n",
    "index.nprobe = 10\n",
    "D, I = index.search(query, k)  # search\n",
    "print(I)"
   ]
  },
  {
   "cell_type": "code",
   "execution_count": 20,
   "metadata": {},
   "outputs": [
    {
     "data": {
      "image/png": "[encoded data removed]",
      "text/plain": [
       "<Figure size 640x480 with 1 Axes>"
      ]
     },
     "metadata": {},
     "output_type": "display_data"
    }
   ],
   "source": [
    "import fitz\n",
    "# можно вывести самыую релевантную страницу\n",
    "doc=fitz.open(path[0])\n",
    "page=doc.load_page(11+14)\n",
    "\n",
    "img=page.get_pixmap(dpi=400)\n",
    "img.save('book.png')\n",
    "doc.close()\n",
    "\n",
    "img_array=np.frombuffer(img.samples_mv,\n",
    "                        dtype=np.uint8).reshape(img.h,img.w,img.n)\n",
    "import matplotlib.pyplot as plt\n",
    "plt.imshow(img_array)\n",
    "plt.axis('off')\n",
    "plt.show()"
   ]
  },
  {
   "cell_type": "markdown",
   "metadata": {},
   "source": [
    "#### Similarity measures"
   ]
  },
  {
   "cell_type": "markdown",
   "metadata": {},
   "source": [
    "Точечное произведение \n",
    "- Мера величины и направления между двумя векторами\n",
    "- Векторы, выровненные по направлению и величине, имеют более высокое положительное значение\n",
    "- Векторы, противоположные по направлению и величине, имеют более высокое отрицательное значение torch.dot, np.dot, sentence_transformers.util.dot_score  \n",
    "\n",
    "Косинусоидальное сходство - Векторы нормализуются по величине / евклидовой норме) / норме L2, поэтому они имеют единичную длину и сравниваются в большей степени по направлению\n",
    "- Векторы, выровненные по направлению, имеют значение, близкое к 1\n",
    "- Векторы, противоположные по направлению, имеют значение, близкое к -1"
   ]
  },
  {
   "cell_type": "code",
   "execution_count": 39,
   "metadata": {},
   "outputs": [],
   "source": [
    "def dot_prod(vec1,vec2):\n",
    "    return torch.dot(vec1,vec2)\n",
    "\n",
    "def cisine_similarity(vec1,vec2):\n",
    "    dot_product=torch.dot(vec1,vec2)\n",
    "    norm1=torch.sqrt(torch.sum(vec1))\n",
    "    norm2=torch.sqrt(torch.sum(vec2))\n",
    "    return dot_product/(norm1*norm2)"
   ]
  },
  {
   "cell_type": "markdown",
   "metadata": {},
   "source": [
    "#### Functionizing semantic search pipline"
   ]
  },
  {
   "cell_type": "code",
   "execution_count": 40,
   "metadata": {},
   "outputs": [],
   "source": [
    "def relevant_resources(query: str,\n",
    "                                embeddings: torch.tensor,\n",
    "                                model: SentenceTransformer=embd_model,\n",
    "                                n_resources_to_return: int=5,):\n",
    "\n",
    "    query_embedding = model.encode(query, convert_to_tensor=True) \n",
    "\n",
    "    dot_scores = util.dot_score(query_embedding, embeddings.to(device))[0]\n",
    "\n",
    "    scores, indices = torch.topk(input=dot_scores, k=n_resources_to_return)\n",
    "    print (scores)\n",
    "    return scores, indices\n",
    "\n",
    "def print_wrapped(text, wrap_length=80):\n",
    "    wrapped_text = textwrap.fill(text, wrap_length)\n",
    "    print(wrapped_text)\n",
    "\n",
    "# пример \n",
    "# r=relevant_resources('The relationship of time and frequency of the LFM signal',embedding)\n"
   ]
  },
  {
   "cell_type": "code",
   "execution_count": 43,
   "metadata": {},
   "outputs": [
    {
     "name": "stdout",
     "output_type": "stream",
     "text": [
      "tensor([0.6631, 0.6011, 0.5978], device='cuda:0')\n",
      "Query: The relationship of time and frequency of the LFM signal\n",
      "\n",
      "Results:\n",
      "Score: 0.6631\n",
      "2.1.3 SAR Signal Properties In SAR, linear frequency modulated(LFM) signal, which is also\n",
      "called chirp signal, is used for pulse compression. The properties of LFM signal will be\n",
      "introduced ﬁrstly. LFM signal is a kind of modulated signals in which the frequency\n",
      "increases or decreases with time. [39]. The relationship of time and frequency of the LFM\n",
      "signal is a linear function. The mathematical equation can be expressed as s(t) = rect \u0012 t\n",
      "T0 \u0013 exp j2πfct + jπKt2    (2.9) where t is the time variable in seconds, T0 is time\n",
      "duration of the LFM signal, fc is carrier frequency and K is the linear FM rate in Hz/s.\n",
      "The instantaneous frequency is the derivative of phase and can be expressed as f = 1 2π\n",
      "dφ(t) dt = 1 2π d(2πfct + πKt2) dt = fc + Kt (2.10) This means that the frequency is a\n",
      "linear function of time t with the slope K. The waveform of LFM signal is shown in Figure\n",
      "2.4. In SAR, both signals in the range and azimuth directions can be considered as LFM\n",
      "signal.\n",
      "Page number: 13\n",
      "\n",
      "\n",
      "Score: 0.6011\n",
      "Figure 2.4: LFM signal waveform. After convolution with matched ﬁlter and removing carrier\n",
      "frequency, the output can be given by s0(t) = s(t) ∗ h(t) = T0rect \u0012 t T0 \u0013 sinc(πBt)\n",
      "(2.12) where the ∗ is the mark of convolution calculation. The waveform of output signal\n",
      "is shown in Figure 2.5. After pulse compression, signal changes to a narrow pulse with\n",
      "unit TBP. Hence, the pulse width of this output signal Tp = 1 B and the compression ratio\n",
      "Kp = T0 Tp = T0B. It is clear that the ﬁnal output after pulse compression should be a\n",
      "sinc function. Hence, the output of a point target should be two orthogonal sinc functions\n",
      "in SAR image space. In the range direction of SAR, the equation of transmitted LFM 16\n",
      "Page number: 14\n",
      "\n",
      "\n",
      "Score: 0.5978\n",
      "It is apparent that the instantaneous frequency is a function with time, which can be\n",
      "considered as a LFM signal. Therefore we can also use pulse compression to process azimuth\n",
      "echoes. The relative motion between antenna and point target results in the phase shift\n",
      "with time and linear variation of instantaneous frequency, which is known as Doppler\n",
      "shift. More generally, the instantaneous frequency is f(η) = fdc + Kaη = − 2v2 a λR0 η +\n",
      "const (2.20) where fdc deﬁnes the Doppler centroid and Ka is linear FM rate of azimuth\n",
      "signal. If the working model is side-looking (squint angle is zero), the Doppler centroid\n",
      "is zero. If the working model is not side- looking, the Doppler centroid is a constant.\n",
      "Figure 2.7: Side-looking model SAR geometry.\n",
      "Page number: 18\n",
      "\n",
      "\n"
     ]
    }
   ],
   "source": [
    "\n",
    "def print_top_results_and_scores(query: str,\n",
    "                                 embeddings: torch.tensor,\n",
    "                                 pages_and_chunks: list[dict],\n",
    "                                 n_resources_to_return: int=5):\n",
    "    \"\"\"\n",
    "    Takes a query, retrieves most relevant resources and prints them out in descending order.\n",
    "\n",
    "    Note: Requires pages_and_chunks to be formatted in a specific way (see above for reference).\n",
    "    \"\"\"\n",
    "    \n",
    "    scores, indices = relevant_resources(query=query,\n",
    "                                                  embeddings=embeddings,\n",
    "                                                  n_resources_to_return=n_resources_to_return)\n",
    "    \n",
    "    print(f\"Query: {query}\\n\")\n",
    "    print(\"Results:\")\n",
    "    # Loop through zipped together scores and indicies\n",
    "    for score, index in zip(scores, indices):\n",
    "        print(f\"Score: {score:.4f}\")\n",
    "        # Print relevant sentence chunk (since the scores are in descending order, the most relevant chunk will be first)\n",
    "        print_wrapped(pages_and_chunks[index][\"sentence_chunk\"])\n",
    "        # Print the page number too so we can reference the textbook further and check the results\n",
    "        print(f\"Page number: {pages_and_chunks[index]['page_number']}\")\n",
    "        print(\"\\n\")\n",
    "        \n",
    "print_top_results_and_scores('The relationship of time and frequency of the LFM signal',\n",
    "                             embedding,\n",
    "                             page_and_chunks,\n",
    "                             3)\n"
   ]
  },
  {
   "cell_type": "code",
   "execution_count": 24,
   "metadata": {},
   "outputs": [
    {
     "name": "stdout",
     "output_type": "stream",
     "text": [
      "4\n"
     ]
    }
   ],
   "source": [
    "# gpu memory \n",
    "gpu_bt=torch.cuda.get_device_properties(0).total_memory\n",
    "gpu_gb=round(gpu_bt/(2**30))\n",
    "print (gpu_gb)"
   ]
  },
  {
   "cell_type": "markdown",
   "metadata": {},
   "source": [
    "#### Identify model"
   ]
  },
  {
   "cell_type": "code",
   "execution_count": 25,
   "metadata": {},
   "outputs": [
    {
     "name": "stdout",
     "output_type": "stream",
     "text": [
      "[INFO] Using attention implementation: sdpa\n"
     ]
    }
   ],
   "source": [
    "# flash attention 2 \n",
    "import torch\n",
    "from transformers.utils import is_flash_attn_2_available \n",
    "from transformers import BitsAndBytesConfig,AutoModelForCausalLM, AutoTokenizer\n",
    "# from ctransformers import AutoModelForCausalLM # https://github.com/marella/ctransformers?tab=readme-ov-file#transformers\n",
    "\n",
    "quantization_config = BitsAndBytesConfig(load_in_4bit=True,\n",
    "                                         bnb_4bit_compute_dtype=torch.float16)\n",
    "# Setup Flash Attention 2 for faster inference, default to \"sdpa\" or \"scaled dot product attention\" if it's not available\n",
    "if (is_flash_attn_2_available()) and (torch.cuda.get_device_capability(0)[0] >= 8):\n",
    "  attn_implementation = \"flash_attention_2\"\n",
    "else:\n",
    "  attn_implementation = \"sdpa\" # scale dot production\n",
    "print(f\"[INFO] Using attention implementation: {attn_implementation}\")"
   ]
  },
  {
   "cell_type": "code",
   "execution_count": 26,
   "metadata": {},
   "outputs": [],
   "source": [
    "# инитим модель\n",
    "model_name = \"Qwen/Qwen2.5-1.5B-Instruct\"\n",
    "# model_name = \"Qwen/Qwen2.5-0.5B-Instruct\"\n",
    "# начинаем с претрена все тренировочки и токенизатор\n",
    "model = AutoModelForCausalLM.from_pretrained(\n",
    "    model_name,\n",
    "    torch_dtype=\"auto\",\n",
    "    device_map=\"cuda\",\n",
    "    attn_implementation=attn_implementation,\n",
    "    quantization_config=quantization_config\n",
    ")\n",
    "tokenizer = AutoTokenizer.from_pretrained(model_name)"
   ]
  },
  {
   "cell_type": "code",
   "execution_count": 27,
   "metadata": {},
   "outputs": [],
   "source": [
    "similar_texts = [page_and_chunk[i][\"sentence_chunk\"] for i in I[0]]"
   ]
  },
  {
   "cell_type": "code",
   "execution_count": 28,
   "metadata": {},
   "outputs": [],
   "source": [
    "# запрос\n",
    "prompt = \"Give me a short introduction to LFM signal\"\n",
    "\n",
    "combined_text = f\"Promt: {prompt}\\nSimilarity text:\\n\" + \"\\n\".join(similar_texts)\n",
    "# inputs = tokenizer(combined_text, return_tensors='pt', padding=True, truncation=True)\n",
    "# Создайте шаблон приглашения для модели, настроенной на основе инструкций\n",
    "messages = [\n",
    "    {\"role\": \"system\", \"content\": \"You are Qwen, created by Alibaba Cloud. You are a helpful assistant.\"},\n",
    "    {\"role\": \"user\", \"content\": combined_text}\n",
    "]\n",
    "# Примените шаблон чата\n",
    "text = tokenizer.apply_chat_template(\n",
    "    messages,\n",
    "    tokenize=False, # keep as raw text (not tokenized)\n",
    "    add_generation_prompt=True\n",
    ")\n",
    "# Наш следующий шаг - выделить этот форматированный текст и передать его методу generate() нашей модели.\n",
    "# Мы позаботимся о том, чтобы наш токенизированный текст был на том же устройстве, что и наша модель (GPU), используя \"to(\"cuda\")\".\n",
    "model_inputs = tokenizer([text], return_tensors=\"pt\").to(model.device)\n",
    "\n",
    "# Генерировать выходные данные, передаваемые по токенизированному входу\n",
    "generated_ids = model.generate(\n",
    "    **model_inputs,\n",
    "    max_new_tokens=128\n",
    ")\n",
    "generated_ids = [\n",
    "    output_ids[len(input_ids):] for input_ids, output_ids in zip(model_inputs.input_ids, generated_ids)\n",
    "]\n",
    "\n",
    "response = tokenizer.batch_decode(generated_ids, skip_special_tokens=True)[0]"
   ]
  },
  {
   "cell_type": "code",
   "execution_count": 31,
   "metadata": {},
   "outputs": [
    {
     "name": "stdout",
     "output_type": "stream",
     "text": [
      "### Introduction to LFM Signal\n",
      "\n",
      "#### 2.1.2 Geometric Model of SAR\n",
      "\n",
      "This section aims to describe a general data acquisition geometric model for Synthetic Aperture Radar (SAR) and defines some geometry-related terms. **Figure 2.3** illustrates a general model of a SAR concerning radar location and its beam footprint illuminated on the Earth's surface.\n",
      "\n",
      "A SAR generates images in slant range (not ground range) and azimuth coordinates. The intersection of the zero Doppler plane with the ground is referred to as the zero Doppler line. The squint angle \\ in the figure represents an angle between the antenna beam\n"
     ]
    }
   ],
   "source": [
    "print (response)"
   ]
  },
  {
   "cell_type": "markdown",
   "metadata": {},
   "source": [
    "Excellent! Now let's test our functions out.\n"
   ]
  },
  {
   "cell_type": "markdown",
   "metadata": {},
   "source": [
    "## Application of the written RAG LLM"
   ]
  },
  {
   "cell_type": "code",
   "execution_count": null,
   "metadata": {},
   "outputs": [],
   "source": [
    "# работает , если проверить , то в исходном нужно закоментить лишнее\n",
    "from pred_train import PDF_analyze as pdf\n",
    "from pred_train import Text_preprocessing as tp\n",
    "from pred_train import Text_filter\n",
    "from pred_train import Make_embedding\n",
    "from pred_train import Vector_base\n",
    "from pred_train import Response_system\n",
    "\n",
    "PDF=pdf(\"pdf\",'help_info.json')\n",
    "ls=PDF.pdf_dir()\n",
    "path=PDF.filepath_list(ls)\n",
    "# page_and_text=PDF.read_file(path[0])  \n",
    "# print(page_and_text)\n",
    "books_text=PDF.processed_pdf(path)\n",
    "\n",
    "TP=tp(books_text,7)\n",
    "TP.text2sentence()\n",
    "TP.sentence2chunk()\n",
    "chunked=TP.chunking()\n",
    "print (chunked[0])\n",
    "# print(books_text[5])\n",
    "\n",
    "res=Text_filter.token_filter(chunked,30)"
   ]
  },
  {
   "cell_type": "code",
   "execution_count": null,
   "metadata": {},
   "outputs": [],
   "source": [
    "\n",
    "model_name='sentence-transformers/all-MiniLM-L12-v2'\n",
    "embedding_model=Make_embedding(res,model_name)\n",
    "\n",
    "embedding=embedding_model.embedding_process()\n",
    "\n",
    "nlist=10\n",
    "query='The relationship of time and frequency of the LFM signal'\n",
    "database_name='Radio_book.index'\n",
    "\n",
    "VB=Vector_base(embedding,nlist)\n",
    "database=VB.base_formation()\n",
    "VB.save_vector_base(database,database_name)\n",
    "# подгружаем векторную базу данных\n",
    "dist,idx=VB.search_bd(embedding_model.model(),database_name,query,10,3)\n",
    "print (idx[0])\n",
    "# print (res[423]['sentence_chunk'])"
   ]
  },
  {
   "cell_type": "code",
   "execution_count": null,
   "metadata": {},
   "outputs": [],
   "source": [
    "llm_name=\"Qwen/Qwen2.5-1.5B-Instruct\"\n",
    "promt=query\n",
    "\n",
    "RS=Response_system(res,idx)\n",
    "LLM_model,LLM_tokenizer=RS.llm_model(llm_name)\n",
    "response=RS.make_response(promt,LLM_tokenizer,LLM_model,)\n",
    "\n",
    "print (response)"
   ]
  }
 ],
 "metadata": {
  "kernelspec": {
   "display_name": "Python 3",
   "language": "python",
   "name": "python3"
  },
  "language_info": {
   "codemirror_mode": {
    "name": "ipython",
    "version": 3
   },
   "file_extension": ".py",
   "mimetype": "text/x-python",
   "name": "python",
   "nbconvert_exporter": "python",
   "pygments_lexer": "ipython3",
   "version": "3.10.11"
  }
 },
 "nbformat": 4,
 "nbformat_minor": 2
}
